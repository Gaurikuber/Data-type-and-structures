{
  "nbformat": 4,
  "nbformat_minor": 0,
  "metadata": {
    "colab": {
      "provenance": []
    },
    "kernelspec": {
      "name": "python3",
      "display_name": "Python 3"
    },
    "language_info": {
      "name": "python"
    }
  },
  "cells": [
    {
      "cell_type": "markdown",
      "source": [
        "1.  What are data structures, and why are they important?\n",
        "  - Data structures are  ways of organizing and storing data in a computer so that it can be accessed and used efficiently.\n",
        "  1. Efficiency: They help in operation like searching , sorting , and inserting data.\n",
        "  2. Organization:They provide logical way to store and manipulate data.\n",
        "  3. Reusability: Many data structures are widely used in different application, reducing development effort.\n",
        "  4. Abstraction: It help you think about data at a higher level without worrying about the low-level details .\n"
      ],
      "metadata": {
        "id": "m1LadeehFeLI"
      }
    },
    {
      "cell_type": "markdown",
      "source": [
        "2.  Explain the difference between mutable and immutable data types with examples?\n",
        "  - Definition: Mutable data types are objects whose values can be changed after they are created. This means you can modify the internal state of the object without creating a new one.\n",
        "\n",
        "       Examples:\n",
        "\n",
        "       Lists: You can add, remove, or modify elements within a list.\n",
        "\n",
        "       my_list = [1, 2, 3]\n",
        "\n",
        "       my_list.append(4)  # Modifies the original list\n",
        "       print(my_list)  # Output: [1, 2, 3, 4]\n",
        "\n",
        "   - Definition: Immutable data types are objects whose values cannot be changed after they are created. If you try to modify an immutable object, a new object is created with the modified value, leaving the original object unchanged.\n",
        "\n",
        "     Examples:\n",
        "\n",
        "     Numbers (int, float, complex):\n",
        "\n",
        "     x = 5\n",
        "\n",
        "     y = x + 2   # A new object is created for y\n",
        "     \n",
        "     print(x)    # Output: 5 (x remains unchanged)"
      ],
      "metadata": {
        "id": "s0Dj1_-uHaot"
      }
    },
    {
      "cell_type": "markdown",
      "source": [
        "3. What are the main differences between lists and tuples in Python?\n",
        "   - Lists:\n",
        "\n",
        " Mutability: Lists are mutable, meaning you can change their elements after creation. You can add, remove, or modify items within a list.\n",
        "\n",
        " Syntax: Lists are defined using square brackets [].\n",
        "\n",
        " Methods: Lists have a variety of built-in methods for operations like appending, inserting, removing, sorting, and reversing elements.\n",
        "\n",
        " Use Cases: Lists are ideal for storing collections of items that may need to be modified or reordered.They're commonly used for dynamic data structures where the size and contents can change.\n",
        "\n",
        " - Tuples:\n",
        "\n",
        " Immutability: Tuples are immutable, meaning their elements cannot be changed after creation. Once a tuple is defined, you cannot add, remove, or modify its items.\n",
        "\n",
        " Syntax: Tuples are defined using parentheses ().\n",
        "\n",
        " Methods: Tuples have fewer built-in methods compared to lists.\n",
        "\n",
        " Use Cases: Tuples are suitable for representing fixed collections of data, such as coordinates, database records, or function arguments. They're often used when data integrity is crucial and modifications should be prevented."
      ],
      "metadata": {
        "id": "sIUYUC_cIeyv"
      }
    },
    {
      "cell_type": "markdown",
      "source": [
        "4. Describe how dictionaries store data?\n",
        "  - Dictionaries store data as key-value pairs. Each item in a dictionary consists of a key and its corresponding value. The key acts as a unique identifier for the value, allowing you to quickly access and retrieve it.\n",
        "\n",
        "  How it Works:\n",
        "\n",
        "     Hashing: When you add a key-value pair to a dictionary, the key is passed through a hash function, which generates a unique numerical index. This index determines where the value will be stored in the hash table.\n",
        "\n",
        "     Storage: The value is then stored at the location specified by the hash index.\n",
        "\n",
        "     Retrieval: When you want to access a value using its key, the key is hashed again to find the corresponding index in the hash table, and the value is retrieved from that location"
      ],
      "metadata": {
        "id": "Uvr6Ntc9J5wR"
      }
    },
    {
      "cell_type": "markdown",
      "source": [
        "5.  Why might you use a set instead of a list in Python?\n",
        "  -   1. Ensuring Uniqueness: If you need to store a\n",
        "      collection of unique items and eliminate duplicates, a set is the ideal choice.\n",
        "\n",
        "     2. Efficient Membership Testing: If you frequently need to check if an element is present in a collection, sets offer much faster performance compared to lists.\n",
        "\n",
        "     3. Mathematical Set Operations: If you need to perform operations like finding common elements, removing duplicates, or identifying differences between collections, sets provide built-in methods for these tasks."
      ],
      "metadata": {
        "id": "SeAp4OeRK9Zl"
      }
    },
    {
      "cell_type": "markdown",
      "source": [
        "6. What is a string in Python, and how is it different from a list?\n",
        "  -  String\n",
        "\n",
        "     Definition: A string is a sequence of characters, such as letters, numbers, and symbols, enclosed within single quotes (' ') or double quotes (\" \"). It's used to represent text-based data.\n",
        "\n",
        "     Example: \"Hello, world!\", 'Python', '123'\n",
        "     Characteristics:\n",
        "\n",
        "     Immutable: Strings cannot be changed after they are created. Any operation that appears to modify a string actually creates a new string with the modified value.\n",
        "\n",
        "     Ordered: Characters in a string have a specific order, and you can access them using indexing.\n",
        "\n",
        "     Iterable: You can loop through the characters of a string using a for loop.\n",
        "\n",
        "   - List\n",
        "\n",
        "     Definition: A list is an ordered collection of items. These items can be of different data types, including numbers, strings, other lists, and more.\n",
        "\n",
        "    Example:\n",
        "     [1, 2, 3], ['apple', 'banana', 'orange'], [1, 'hello', [4, 5]]\n",
        "\n",
        "     Characteristics:\n",
        "     Mutable: Lists can be modified after creation. You can add, remove, or change elements within a list.\n",
        "\n",
        "     Ordered: Elements in a list have a specific order, and you can access them using indexing.\n",
        "\n",
        "     Iterable: You can loop through the elements of a list using a for loop."
      ],
      "metadata": {
        "id": "z7j5ecLSMJFS"
      }
    },
    {
      "cell_type": "markdown",
      "source": [
        "7. How do tuples ensure data integrity in Python?\n",
        "  - Tuples are immutable, which means their elements cannot be changed after creation. This inherent immutability is the primary factor behind their role in ensuring data integrity.\n",
        "\n",
        "     Data Consistency: Because tuples are immutable, you can be confident that the data they hold will remain consistent throughout the program's execution."
      ],
      "metadata": {
        "id": "WW3Mfo9PjuDs"
      }
    },
    {
      "cell_type": "markdown",
      "source": [
        "8. What is a hash table, and how does it relate to dictionaries in Python?\n",
        "  - A hash table is a data structure that stores data in key-value pairs, where each key is unique and used to access its corresponding value. It uses a hash function to map keys to indices in an array, allowing for efficient retrieval of values.\n",
        "  \n",
        "     Dictionaries in Python are implemented using hash tables. This means that when you create a dictionary, Python internally uses a hash table to store the key-value pairs.\n",
        "\n",
        "      Relationship Between Hash Tables and Dictionaries\n",
        "\n",
        "     Key-Value Storage: Both hash tables and dictionaries store data in key-value pairs.\n",
        "\n",
        "     Efficient Retrieval: Both offer efficient retrieval of values using keys.\n",
        "\n",
        "     Hashing: Both utilize hash functions to map keys to storage locations."
      ],
      "metadata": {
        "id": "dLJrKgYTrozd"
      }
    },
    {
      "cell_type": "markdown",
      "source": [
        "9. Can lists contain different data types in Python?\n",
        "  - Yes, lists in Python can contain different data types.\n",
        "\n",
        "     Lists in Python are heterogeneous, meaning they can store elements of various data types within the same list. This flexibility is one of the key features of lists, making them versatile for storing diverse collections of data."
      ],
      "metadata": {
        "id": "ub2EA7K1s3t8"
      }
    },
    {
      "cell_type": "markdown",
      "source": [
        "10.  Explain why strings are immutable in Python?\n",
        "  - Strings in Python are immutable, meaning their contents cannot be changed after they are created. Any operation that appears to modify a string actually creates a new string with the modified value, leaving the original string unchanged.\n",
        "\n",
        "      Hashing and Dictionary Keys: Strings are commonly used as keys in dictionaries. Immutability ensures that the hash value of a string remains constant, which is essential for the efficient functioning of dictionaries. If strings were mutable, their hash values could change after creation, leading to inconsistencies and potential errors in dictionary operations."
      ],
      "metadata": {
        "id": "BxuDl5gEtfb1"
      }
    },
    {
      "cell_type": "markdown",
      "source": [
        "11. What advantages do dictionaries offer over lists for certain tasks?\n",
        "  - Here are some key advantages of dictionaries over lists for specific tasks:\n",
        "\n",
        "     Efficient Lookups: Dictionaries provide constant-time average complexity for key , making them very efficient for accessing values but lists require linear-time complexity for searching elements, which can be slower for large lists.\n",
        "\n",
        "     Key-Value Association: Dictionaries store data as key-value pairs, allowing you to associate a unique key with each value. This makes it easy to retrieve values based on their keys, without needing to iterate through the entire list.\n",
        "\n",
        "     Representing Structured Data: Dictionaries are well-suited for representing structured data, such as records or objects. Each key can represent a field or attribute, and its corresponding value can store the data for that field.\n",
        "\n",
        "     Flexibility and Extensibility: Dictionaries can be easily modified by adding, removing, or updating key-value pairs. This flexibility makes them adaptable to changing data requirements.\n",
        "\n",
        "     Readability and Maintainability: Dictionaries can improve code readability and maintainability by using meaningful keys to represent data elements. This makes it easier to understand the purpose and structure of the data"
      ],
      "metadata": {
        "id": "mRBYfAi7um_I"
      }
    },
    {
      "cell_type": "markdown",
      "source": [
        "12. Describe a scenario where using a tuple would be preferable over a list?\n",
        "  - When a function needs to return multiple values, using a tuple can be a concise and efficient approach. Tuples allow you to package multiple values together into a single object that can be easily returned and unpacked by the caller."
      ],
      "metadata": {
        "id": "C8fCq8E_vnjq"
      }
    },
    {
      "cell_type": "markdown",
      "source": [
        "13. How do sets handle duplicate values in Python?\n",
        "  - sets in Python are unordered collections of unique elements. This means that sets automatically eliminate duplicate values when they are added.\n",
        "\n",
        "     Hashing: When you add an element to a set, Python uses a hash function to generate a unique hash code for the element. This hash code is used to determine the element's position in the underlying hash table.\n",
        "\n",
        "     Collision Detection: If two elements have the same hash code, a collision occurs. Python uses various collision resolution techniques to handle collisions, but the key point is that it ensures that only one copy of the element is stored in the set.\n",
        "\n",
        "     Duplicate Elimination: When you try to add a duplicate element to a set, Python checks if an element with the same hash code already exists. If it does, Python recognizes it as a duplicate and ignores the addition"
      ],
      "metadata": {
        "id": "5zxcX7oYxcz4"
      }
    },
    {
      "cell_type": "markdown",
      "source": [
        "14. How does the “in” keyword work differently for lists and dictionaries?\n",
        "  - Lists\n",
        "\n",
        "     For lists, the \"in\" keyword checks if a given element is present in the list. It iterates through the elements of the list and returns True if the element is found, otherwise False.\n",
        "\n",
        "  -  Dictionaries\n",
        "\n",
        "     For dictionaries, the \"in\" keyword checks if a given key is present in the dictionary. It does not check for the presence of values."
      ],
      "metadata": {
        "id": "E4oWPo4lyJsJ"
      }
    },
    {
      "cell_type": "markdown",
      "source": [
        "15. Can you modify the elements of a tuple? Explain why or why not?\n",
        "  - No, you cannot modify the elements of a tuple in Python. Tuples are immutable, which means their elements cannot be changed after they are created.\n",
        "  \n"
      ],
      "metadata": {
        "id": "gGp7ItKxy1VP"
      }
    },
    {
      "cell_type": "markdown",
      "source": [
        "16. What is a nested dictionary, and give an example of its use case?\n",
        "  - A nested dictionary is a dictionary where the values are themselves dictionaries. This allows you to create a hierarchical structure to store and organize data.\n",
        "\n",
        "      students = {\n",
        "\n",
        "        \"Alice\": {\n",
        "        \"age\": 20,\n",
        "        \"major\": \"Computer Science\",\n",
        "        \"grades\": [90, 85, 92]\n",
        "       },\n",
        "       \n",
        "     \"Bob\": {\n",
        "        \"age\": 22,\n",
        "        \"major\": \"Physics\",\n",
        "        \"grades\": [88, 92, 89]\n",
        "    }\n",
        "}"
      ],
      "metadata": {
        "id": "QjJbS-reDgQO"
      }
    },
    {
      "cell_type": "markdown",
      "source": [
        "17. Describe the time complexity of accessing elements in a dictionary.\n",
        "  - Dictionaries in Python are implemented using hash tables. Hash tables offer very efficient average-case performance for accessing elements\n",
        "\n",
        "     Average Case: The average time complexity of accessing an element in a dictionary is O(1), also known as constant time. This means that the time it takes to access an element is independent of the size of the dictionary.\n",
        "\n",
        "     Worst Case: In the worst-case scenario, where there are many collisions in the hash table, the time complexity can become O(n), where n is the number of elements in the dictionary. However, this scenario is rare in practice due to the use of efficient hashing algorithms and collision resolution techniques."
      ],
      "metadata": {
        "id": "0Mk5UD-0F0zO"
      }
    },
    {
      "cell_type": "markdown",
      "source": [
        "18. In what situations are lists preferred over dictionaries?\n",
        "  - When you need to store data in a specific order: Lists maintain the order of elements, while dictionaries do not guarantee any specific order. If the order of elements is important for your task, using a list is preferable.\n",
        "\n",
        "     When you need to access elements by their index: Lists allow you to access elements directly by their index using numerical indexing (e.g., my_list[0]). Dictionaries, on the other hand, require you to use keys for access. If you need frequent access to elements based on their position in the sequence, a list is more efficient.\n",
        "\n",
        "     When you need to store duplicate values: Lists allow duplicate elements, while dictionaries require unique keys. If your data may contain duplicate values, using a list is suitable"
      ],
      "metadata": {
        "id": "vGS1VpioJZbe"
      }
    },
    {
      "cell_type": "markdown",
      "source": [
        "19. Why are dictionaries considered unordered, and how does that affect data retrieval?\n",
        "  - Dictionaries in Python are implemented using hash tables, which are inherently unordered data structures. While newer versions of Python (3.7 and later) preserve insertion order as an implementation detail, dictionaries are fundamentally not designed to maintain a specific order of elements.\n",
        "  \n",
        "     How Unorderedness Affects Data Retrieval\n",
        "\n",
        "     The unordered nature of dictionaries primarily affects how you access data:\n",
        "\n",
        "     No Guaranteed Order: You cannot rely on the order in which elements were added to a dictionary when iterating over its contents. The order of items may change depending on factors like hash collisions and internal implementation details.\n",
        "\n",
        "     Retrieval by Key Only: The main way to retrieve data from a dictionary is by using the key. You cannot access elements by their position or index as you can with lists.\n",
        "\n",
        "     Iteration: When you iterate over a dictionary using a for loop, the order of items is not guaranteed. You should not assume any specific order when processing elements obtained through iteration."
      ],
      "metadata": {
        "id": "yjUdura5LR9p"
      }
    },
    {
      "cell_type": "markdown",
      "source": [
        "20. Explain the difference between a list and a dictionary in terms of data retrieval.\n",
        "  - Lists\n",
        "\n",
        "     Data Retrieval by Index: Lists store elements in a sequential order, and you retrieve elements using their index, which represents their position in the list. Indexing starts from 0 for the first element.\n",
        "\n",
        "     Dictionaries\n",
        "\n",
        "     Data Retrieval by Key: Dictionaries store data as key-value pairs. You retrieve values using their associated keys\n"
      ],
      "metadata": {
        "id": "yUfRf4hANvOT"
      }
    },
    {
      "cell_type": "code",
      "source": [
        "#1.  Write a code to create a string with your name and print it?\n",
        "my_name = \"Gauri\"\n",
        "print(my_name)\n",
        ""
      ],
      "metadata": {
        "colab": {
          "base_uri": "https://localhost:8080/"
        },
        "id": "NgeM5NEAOmhy",
        "outputId": "2b275cb1-3a7a-4aec-8d86-1ed64032de5a"
      },
      "execution_count": 7,
      "outputs": [
        {
          "output_type": "stream",
          "name": "stdout",
          "text": [
            "Gauri\n"
          ]
        }
      ]
    },
    {
      "cell_type": "code",
      "source": [
        "#2. Write a code to find the length of the string \"Hello World\"?\n",
        "my_string = \"hello world\"\n",
        "print(len(my_string))"
      ],
      "metadata": {
        "colab": {
          "base_uri": "https://localhost:8080/"
        },
        "id": "tv55m73dQG_J",
        "outputId": "2ead252b-dea7-4c8b-8778-2032ab7e916d"
      },
      "execution_count": 9,
      "outputs": [
        {
          "output_type": "stream",
          "name": "stdout",
          "text": [
            "11\n"
          ]
        }
      ]
    },
    {
      "cell_type": "code",
      "source": [
        "#3. Write a code to slice the first 3 characters from the string \"Python Programming\"?\n",
        "my_string = \"python programming\"\n",
        "print(my_string[0:3])"
      ],
      "metadata": {
        "colab": {
          "base_uri": "https://localhost:8080/"
        },
        "id": "yGgIUiz_QNRC",
        "outputId": "120a4cbb-fd7f-41d8-b8a6-0d95168cbf9a"
      },
      "execution_count": 10,
      "outputs": [
        {
          "output_type": "stream",
          "name": "stdout",
          "text": [
            "pyt\n"
          ]
        }
      ]
    },
    {
      "cell_type": "code",
      "source": [
        "#4. Write a code to convert the string \"hello\" to uppercase?\n",
        "my_string = \"hello\"\n",
        "print(my_string.upper())"
      ],
      "metadata": {
        "colab": {
          "base_uri": "https://localhost:8080/"
        },
        "id": "PDi4kK4GZpwz",
        "outputId": "dce29e8f-f4e3-4df0-b451-cb2150028f6e"
      },
      "execution_count": 11,
      "outputs": [
        {
          "output_type": "stream",
          "name": "stdout",
          "text": [
            "HELLO\n"
          ]
        }
      ]
    },
    {
      "cell_type": "code",
      "source": [
        "#5. Write a code to replace the word \"apple\" with \"orange\" in the string \"I like apple\"?\n",
        "my_string = \"I like apple\"\n",
        "print(my_string.replace(\"apple\",\"orange\"))"
      ],
      "metadata": {
        "colab": {
          "base_uri": "https://localhost:8080/"
        },
        "id": "Ph5cw-yYaefw",
        "outputId": "582e9243-98de-4924-ea8e-7f683ed299d1"
      },
      "execution_count": 12,
      "outputs": [
        {
          "output_type": "stream",
          "name": "stdout",
          "text": [
            "I like orange\n"
          ]
        }
      ]
    },
    {
      "cell_type": "code",
      "source": [
        "#6. Write a code to create a list with numbers 1 to 5 and print it?\n",
        "list = [1, 2, 3, 4, 5]\n",
        "print(list)"
      ],
      "metadata": {
        "colab": {
          "base_uri": "https://localhost:8080/"
        },
        "id": "z9wy0htkcFQ2",
        "outputId": "3b8b0d7a-5650-4a70-c0c0-7f3f3fd20448"
      },
      "execution_count": 13,
      "outputs": [
        {
          "output_type": "stream",
          "name": "stdout",
          "text": [
            "[1, 2, 3, 4, 5]\n"
          ]
        }
      ]
    },
    {
      "cell_type": "code",
      "source": [
        "#7.  Write a code to append the number 10 to the list [1, 2, 3, 4]?\n",
        "list = [1, 2,3 ,4]\n",
        "list.append(10)\n",
        "print(list)"
      ],
      "metadata": {
        "colab": {
          "base_uri": "https://localhost:8080/"
        },
        "id": "17Ebg6rpcaYr",
        "outputId": "e431f459-9338-4ee8-893d-5ab1f85c694f"
      },
      "execution_count": 15,
      "outputs": [
        {
          "output_type": "stream",
          "name": "stdout",
          "text": [
            "[1, 2, 3, 4, 10]\n"
          ]
        }
      ]
    },
    {
      "cell_type": "code",
      "source": [
        "#8. Write a code to remove the number 3 from the list [1, 2, 3, 4, 5]?\n",
        "list =[1,2,3,4,5]\n",
        "list.remove(3)\n",
        "print(list)"
      ],
      "metadata": {
        "colab": {
          "base_uri": "https://localhost:8080/"
        },
        "id": "oHjE6q2TczAI",
        "outputId": "6ef41b58-12bf-42ef-cca5-aadab608d5ad"
      },
      "execution_count": 16,
      "outputs": [
        {
          "output_type": "stream",
          "name": "stdout",
          "text": [
            "[1, 2, 4, 5]\n"
          ]
        }
      ]
    },
    {
      "cell_type": "code",
      "source": [
        "#9. Write a code to access the second element in the list ['a', 'b', 'c', 'd']?\n",
        "list = ['a','b','c','d']\n",
        "second_element = list[1]\n",
        "print(second_element)\n"
      ],
      "metadata": {
        "colab": {
          "base_uri": "https://localhost:8080/"
        },
        "id": "vJ6QI8JWdIGu",
        "outputId": "98096914-d179-4139-c047-fc18ebbd7fe1"
      },
      "execution_count": 18,
      "outputs": [
        {
          "output_type": "stream",
          "name": "stdout",
          "text": [
            "b\n",
            "b\n"
          ]
        }
      ]
    },
    {
      "cell_type": "code",
      "source": [
        "#10. Write a code to reverse the list [10, 20, 30, 40, 50].\n",
        "list =[10,20,30,40,50]\n",
        "list.reverse()\n",
        "print(list)"
      ],
      "metadata": {
        "colab": {
          "base_uri": "https://localhost:8080/"
        },
        "id": "29nBlAVVeN10",
        "outputId": "a7d1a2e1-6d15-422c-dfb5-feb756aea0bf"
      },
      "execution_count": 23,
      "outputs": [
        {
          "output_type": "stream",
          "name": "stdout",
          "text": [
            "[50, 40, 30, 20, 10]\n"
          ]
        }
      ]
    },
    {
      "cell_type": "code",
      "source": [
        "#11. Write a code to create a tuple with the elements 100, 200, 300 and print it.\n",
        "my_tuple = (100,200,300)\n",
        "print(my_tuple)"
      ],
      "metadata": {
        "id": "lZr69OEce6KW",
        "outputId": "73751a30-0549-4ad1-d268-022349a01330",
        "colab": {
          "base_uri": "https://localhost:8080/"
        }
      },
      "execution_count": 21,
      "outputs": [
        {
          "output_type": "stream",
          "name": "stdout",
          "text": [
            "(100, 200, 300)\n"
          ]
        }
      ]
    },
    {
      "cell_type": "code",
      "source": [
        "#12.Write a code to access the second-to-last element of the tuple ('red', 'green', 'blue', 'yellow').\n",
        "my_tuple = ('red', 'green', 'blue', 'yellow')\n",
        "second_to_last_element = my_tuple[-2]\n",
        "print(second_to_last_element)\n"
      ],
      "metadata": {
        "id": "-fdNVjx4fboK",
        "outputId": "4711f681-30f6-418c-a623-7feb22687c93",
        "colab": {
          "base_uri": "https://localhost:8080/"
        }
      },
      "execution_count": 32,
      "outputs": [
        {
          "output_type": "stream",
          "name": "stdout",
          "text": [
            "blue\n"
          ]
        }
      ]
    },
    {
      "cell_type": "code",
      "source": [
        "#13. Write a code to find the minimum number in the tuple (10, 20, 5, 15).\n",
        "my_tuple =(10,20,5,15)\n",
        "minimum_number=min(my_tuple)\n",
        "print(minimum_number)"
      ],
      "metadata": {
        "id": "T1ClF8QAiEw2",
        "outputId": "ba331b7e-5cb5-4e2c-8b6e-399b7c71c078",
        "colab": {
          "base_uri": "https://localhost:8080/"
        }
      },
      "execution_count": 33,
      "outputs": [
        {
          "output_type": "stream",
          "name": "stdout",
          "text": [
            "5\n"
          ]
        }
      ]
    },
    {
      "cell_type": "code",
      "source": [
        "#14. Write a code to find the index of the element \"cat\" in the tuple ('dog', 'cat', 'rabbit').\n",
        "my_tuple = ('dog','cat','rabbit')\n",
        "index = my_tuple.index('cat')\n",
        "print(index)\n",
        ""
      ],
      "metadata": {
        "id": "bnaP2XPGimPV",
        "outputId": "284349b2-45d1-499f-eb14-aa3e16526d5b",
        "colab": {
          "base_uri": "https://localhost:8080/"
        }
      },
      "execution_count": 34,
      "outputs": [
        {
          "output_type": "stream",
          "name": "stdout",
          "text": [
            "1\n"
          ]
        }
      ]
    },
    {
      "cell_type": "code",
      "source": [
        "#15. Write a code to create a tuple containing three different fruits and check if \"kiwi\" is in it.\n",
        "fruits =('apple','kiwi','orange')\n",
        "if 'kiwi' in fruits:\n",
        "  print(\"kiwi is in tuple\")\n",
        "else:\n",
        "  print(\"kiwi is not in tuple\")"
      ],
      "metadata": {
        "id": "-fqNnMiOjbM9",
        "outputId": "658bb055-c70b-4500-bb06-4bda74dc1759",
        "colab": {
          "base_uri": "https://localhost:8080/"
        }
      },
      "execution_count": 38,
      "outputs": [
        {
          "output_type": "stream",
          "name": "stdout",
          "text": [
            "kiwi is in tuple\n"
          ]
        }
      ]
    },
    {
      "cell_type": "code",
      "source": [
        "#16. Write a code to create a set with the elements 'a', 'b', 'c' and print it.\n",
        "my_set ={'a','b','c'}\n",
        "print(my_set)"
      ],
      "metadata": {
        "id": "7pyA4zwfky9u",
        "outputId": "3da23fc4-a176-48de-f222-34fdd5579eef",
        "colab": {
          "base_uri": "https://localhost:8080/"
        }
      },
      "execution_count": 39,
      "outputs": [
        {
          "output_type": "stream",
          "name": "stdout",
          "text": [
            "{'c', 'b', 'a'}\n"
          ]
        }
      ]
    },
    {
      "cell_type": "code",
      "source": [
        "#17. Write a code to clear all elements from the set {1, 2, 3, 4, 5}.\n",
        "my_set ={1,2,3,4,5}\n",
        "my_set.clear()\n",
        "print(my_set)"
      ],
      "metadata": {
        "id": "JANHOWFzk_-5",
        "outputId": "609937e8-a94d-4b40-c7d5-64ddd6915002",
        "colab": {
          "base_uri": "https://localhost:8080/"
        }
      },
      "execution_count": 40,
      "outputs": [
        {
          "output_type": "stream",
          "name": "stdout",
          "text": [
            "set()\n"
          ]
        }
      ]
    },
    {
      "cell_type": "code",
      "source": [
        "#18. Write a code to remove the element 4 from the set {1, 2, 3, 4}.\n",
        "my_set = {1,2,3,4}\n",
        "my_set.remove(4)\n",
        "print(my_set)"
      ],
      "metadata": {
        "id": "qrgwBmyqlQH1",
        "outputId": "8576d965-2876-4d46-bb84-fde5f282b99f",
        "colab": {
          "base_uri": "https://localhost:8080/"
        }
      },
      "execution_count": 41,
      "outputs": [
        {
          "output_type": "stream",
          "name": "stdout",
          "text": [
            "{1, 2, 3}\n"
          ]
        }
      ]
    },
    {
      "cell_type": "code",
      "source": [
        "#19. Write a code to find the union of two sets {1, 2, 3} and {3, 4, 5}.\n",
        "set1 ={1,2,3}\n",
        "set2 ={3,4,5}\n",
        "union_set = set1.union(set2)\n",
        "print(union_set)"
      ],
      "metadata": {
        "id": "qHJs4LJKlm0N",
        "outputId": "1948f52e-804a-488a-af91-73635fd275ca",
        "colab": {
          "base_uri": "https://localhost:8080/"
        }
      },
      "execution_count": 42,
      "outputs": [
        {
          "output_type": "stream",
          "name": "stdout",
          "text": [
            "{1, 2, 3, 4, 5}\n"
          ]
        }
      ]
    },
    {
      "cell_type": "code",
      "source": [
        "#20. Write a code to find the intersection of two sets {1, 2, 3} and {2, 3, 4}.\n",
        "set1 ={1,2,3}\n",
        "set2 ={2,3,4}\n",
        "union_set =set1.intersection(set2)\n",
        "print(union_set)"
      ],
      "metadata": {
        "id": "ppMEEJjnmCu7",
        "outputId": "b6c2b32a-5095-4747-9c30-2cb98c6d36f8",
        "colab": {
          "base_uri": "https://localhost:8080/"
        }
      },
      "execution_count": 45,
      "outputs": [
        {
          "output_type": "stream",
          "name": "stdout",
          "text": [
            "{2, 3}\n",
            "{2, 3}\n"
          ]
        }
      ]
    },
    {
      "cell_type": "code",
      "source": [
        "#21. Write a code to create a dictionary with the keys \"name\", \"age\", and \"city\", and print it.\n",
        "my_dict = {'name:gauri', 'age:21',\"city:Temburni\"}\n",
        "print(my_dict)"
      ],
      "metadata": {
        "id": "Bs24GaBgmX5I",
        "outputId": "e8d56ebb-e728-4ff3-d969-9d8edf52ef72",
        "colab": {
          "base_uri": "https://localhost:8080/"
        }
      },
      "execution_count": 44,
      "outputs": [
        {
          "output_type": "stream",
          "name": "stdout",
          "text": [
            "{'age:21', 'name:gauri', 'city:Temburni'}\n"
          ]
        }
      ]
    },
    {
      "cell_type": "code",
      "source": [
        "#22. Write a code to add a new key-value pair \"country\": \"USA\" to the dictionary {'name': 'John', 'age': 25}.\n",
        "dict ={'name': 'John', 'age': 25}\n",
        "dict['country'] =\"USA\"\n",
        "print(dict)"
      ],
      "metadata": {
        "id": "auEC_C40nC5s",
        "outputId": "fb26a278-46ef-4c02-f2ec-d7aba143f999",
        "colab": {
          "base_uri": "https://localhost:8080/"
        }
      },
      "execution_count": 48,
      "outputs": [
        {
          "output_type": "stream",
          "name": "stdout",
          "text": [
            "{'name': 'John', 'age': 25, 'country': 'USA'}\n",
            "{'name': 'John', 'age': 25, 'country': 'USA'}\n"
          ]
        }
      ]
    },
    {
      "cell_type": "code",
      "source": [
        "#23. Write a code to access the value associated with the key \"name\" in the dictionary {'name': 'Alice', 'age': 30}.\n",
        "my_dict = {'name': 'Alice', 'age': 30}\n",
        "name_value = my_dict['name']\n",
        "print(name_value)"
      ],
      "metadata": {
        "id": "9QLuIXmPokk1",
        "outputId": "6fcf4d86-622a-4c2e-b94e-106082dc5a2b",
        "colab": {
          "base_uri": "https://localhost:8080/"
        }
      },
      "execution_count": 56,
      "outputs": [
        {
          "output_type": "stream",
          "name": "stdout",
          "text": [
            "Alice\n"
          ]
        }
      ]
    },
    {
      "cell_type": "code",
      "source": [
        "#24. Write a code to remove the key \"age\" from the dictionary {'name': 'Bob', 'age': 22, 'city': 'New York'}.\n",
        "my_dict =  {'name': 'Bob', 'age': 22, 'city': 'New York'}\n",
        "del my_dict['age']\n",
        "print(my_dict)"
      ],
      "metadata": {
        "id": "Mxc6tXHsq7wl",
        "outputId": "2fef238f-5074-42af-8abb-5916171096e2",
        "colab": {
          "base_uri": "https://localhost:8080/"
        }
      },
      "execution_count": 61,
      "outputs": [
        {
          "output_type": "stream",
          "name": "stdout",
          "text": [
            "{'name': 'Bob', 'city': 'New York'}\n"
          ]
        }
      ]
    },
    {
      "cell_type": "code",
      "source": [
        "#25. Write a code to check if the key \"city\" exists in the dictionary {'name': 'Alice', 'city': 'Paris'}.\n",
        "my_dict = {'name': 'Alice', 'city': 'Paris'}\n",
        "if 'city' in my_dict:\n",
        "    print(\"City exists in the dictionary.\")\n",
        "else:\n",
        "    print(\"City does not exist in the dictionary.\")"
      ],
      "metadata": {
        "id": "DNb9fwfHr8ur",
        "outputId": "39e9c1f4-6e60-4b2d-a484-74c9e7b3a734",
        "colab": {
          "base_uri": "https://localhost:8080/"
        }
      },
      "execution_count": 62,
      "outputs": [
        {
          "output_type": "stream",
          "name": "stdout",
          "text": [
            "City exists in the dictionary.\n"
          ]
        }
      ]
    },
    {
      "cell_type": "code",
      "source": [
        "#26. Write a code to create a list, a tuple, and a dictionary, and print them all.\n",
        "my_list = [1, 2, 3, 4, 5]\n",
        "my_tuple = (10, 20, 30)\n",
        "my_dict = {'name': 'Alice', 'age': 25}\n",
        "print(\"list: \",my_list)\n",
        "print(\"tuple: \",my_tuple)\n",
        "print(\"dict: \",my_dict)"
      ],
      "metadata": {
        "id": "iJuSaX8FsL6D",
        "outputId": "b5396ee9-5cde-4fae-9d3e-1e73ed3b824a",
        "colab": {
          "base_uri": "https://localhost:8080/"
        }
      },
      "execution_count": 65,
      "outputs": [
        {
          "output_type": "stream",
          "name": "stdout",
          "text": [
            "list:  [1, 2, 3, 4, 5]\n",
            "tuple:  (10, 20, 30)\n",
            "dict:  {'name': 'Alice', 'age': 25}\n"
          ]
        }
      ]
    },
    {
      "cell_type": "code",
      "source": [
        "#27. Write a code to create a list of 5 random numbers between 1 and 100, sort it in ascending order, and print the\n",
        "#result.(replaced)\n",
        "import random\n",
        "random_numbers = [random.randint(1, 100) for _ in range(5)]\n",
        "random_numbers.sort()\n",
        "print(random_numbers)\n"
      ],
      "metadata": {
        "id": "0XndS3B0uI4r",
        "outputId": "cc0ab561-8f95-4516-a322-504e86524da2",
        "colab": {
          "base_uri": "https://localhost:8080/"
        }
      },
      "execution_count": 66,
      "outputs": [
        {
          "output_type": "stream",
          "name": "stdout",
          "text": [
            "[11, 53, 61, 92, 94]\n"
          ]
        }
      ]
    },
    {
      "cell_type": "code",
      "source": [
        "#28. Write a code to create a list with strings and print the element at the third index\n",
        "my_list = ['apple', 'banana', 'cherry', 'date', 'elderberry']\n",
        "third_element = my_list[2]\n",
        "print(third_element)"
      ],
      "metadata": {
        "id": "9K_T84uZwl5Q",
        "outputId": "7be4026c-53f1-49f2-ca1b-b9f497707ae9",
        "colab": {
          "base_uri": "https://localhost:8080/"
        }
      },
      "execution_count": 67,
      "outputs": [
        {
          "output_type": "stream",
          "name": "stdout",
          "text": [
            "cherry\n"
          ]
        }
      ]
    },
    {
      "cell_type": "code",
      "source": [
        "#29. Write a code to combine two dictionaries into one and print the result.\n",
        "dict1 = {'a': 1, 'b': 2}\n",
        "dict2 = {'c': 3, 'd': 4}\n",
        "combined_dict = {**dict1, **dict2}\n",
        "print(combined_dict)"
      ],
      "metadata": {
        "id": "oRg4tjIPw2tu",
        "outputId": "3a7df81a-fad2-49dc-a8f6-638eb19da5e2",
        "colab": {
          "base_uri": "https://localhost:8080/"
        }
      },
      "execution_count": 68,
      "outputs": [
        {
          "output_type": "stream",
          "name": "stdout",
          "text": [
            "{'a': 1, 'b': 2, 'c': 3, 'd': 4}\n"
          ]
        }
      ]
    },
    {
      "cell_type": "code",
      "source": [
        "#30. Write a code to convert a list of strings into a set.\n",
        "my_list = ['apple', 'banana', 'cherry', 'date', 'elderberry']\n",
        "my_set = set(my_list)\n",
        "print(my_set)"
      ],
      "metadata": {
        "id": "w5IDK33OxbpY",
        "outputId": "fe6a9234-5cbe-44fb-f3e8-b05894038a99",
        "colab": {
          "base_uri": "https://localhost:8080/"
        }
      },
      "execution_count": 69,
      "outputs": [
        {
          "output_type": "stream",
          "name": "stdout",
          "text": [
            "{'date', 'cherry', 'apple', 'elderberry', 'banana'}\n"
          ]
        }
      ]
    }
  ]
}